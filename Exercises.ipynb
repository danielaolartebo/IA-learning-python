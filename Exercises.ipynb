{
  "cells": [
    {
      "cell_type": "markdown",
      "metadata": {
        "id": "Sd9FIO9n4zM0"
      },
      "source": [
        "Los notebooks de Jupyter tienen celdas de texto y celdas de código. En este curso vamos a utilizar Python 3.x.\n",
        "\n",
        "*   Para ejecutar una celda puede presionar \"ctrl enter\".\n",
        "*   Para ejecutar una celda y avanzar puede presionar \"shift enter\"\n",
        "*   Para abortar la ejecución de una celda puede presionar \"i i\".\n",
        "*   Para salir de una celda presione \"Esc\".\n",
        "*   Para crear una celda arriba puede presionar \"a\".\n",
        "*   Para crear una celda abajo puede presionar \"b\".\n",
        "*   Para eliminar una celda puede presionar \"d d\""
      ]
    },
    {
      "cell_type": "markdown",
      "metadata": {
        "id": "-UDznAKa1JFY"
      },
      "source": [
        "# **Taller 1: introducción a Python y a Google Colab.**\n",
        "\n",
        "**Curso: 09481 - Inteligencia Artificial.**\n",
        "\n",
        "**Universidad Icesi.**\n",
        "\n",
        "**Profesor: Breyner Posso.**\n",
        "\n",
        "**Estudiantes: Daniela Olarte, Duvan Cuero**"
      ]
    },
    {
      "cell_type": "code",
      "execution_count": null,
      "metadata": {
        "id": "odcgS7fltQf6"
      },
      "outputs": [],
      "source": [
        "\n",
        "for i in range(1000000000000000000000):\n",
        "    i = i + i\n",
        "    print(i)\n"
      ]
    },
    {
      "cell_type": "code",
      "execution_count": null,
      "metadata": {
        "id": "QZoG-ThV9rVd"
      },
      "outputs": [],
      "source": [
        "#El comando más importante de Python es help(). \n",
        "#A continuación invocamos la ayuda del comando print:\n",
        "help(print)"
      ]
    },
    {
      "cell_type": "markdown",
      "metadata": {
        "id": "I7_2K54LtQf8"
      },
      "source": [
        "# **Python Data Types**\n",
        "\n",
        "Built-in Data Types\n",
        "\n",
        "In programming, data type is an important concept.\n",
        "\n",
        "Variables can store data of different types, and different types can do different things.\n",
        "\n",
        "Python has the following data types built-in by default, in these categories:\n",
        "\n",
        "- Numeric Types: \tint, float, complex\n",
        "- Text Type: \tstr\n",
        "- Sequence Types: \tlist, tuple, range\n",
        "- Mapping Type: \tdict\n",
        "- Set Types: \tset, frozenset\n",
        "- Boolean Type: \tbool\n",
        "- Binary Types: \tbytes, bytearray, memoryview\n",
        "- None Type: \tNoneType"
      ]
    },
    {
      "cell_type": "markdown",
      "metadata": {
        "id": "fbbsJ2aVtQf8"
      },
      "source": [
        "## **1. Tipos Numéricos**"
      ]
    },
    {
      "cell_type": "code",
      "execution_count": null,
      "metadata": {
        "id": "euVst0cTaTxg"
      },
      "outputs": [],
      "source": [
        "a1 = 3\n",
        "b1 = 5\n",
        "c1 = a1+b1\n",
        "print('El resultado de c1 es ',c1)\n",
        "print(type(a1))\n",
        "print('\\n')\n",
        "\n",
        "a2 = 3.14\n",
        "b2 = a2-0.14\n",
        "print('El resultado de b2 es ',b2)\n",
        "print(type(a2))\n",
        "print('\\n')\n",
        "\n",
        "a3 = 2 - 3j\n",
        "b3 = 4 + 2J\n",
        "c3 = a3 + b3\n",
        "print('El resultado de c3 es ',c3)\n",
        "print(type(c3))\n",
        "print('')"
      ]
    },
    {
      "cell_type": "markdown",
      "metadata": {
        "id": "5ipYkpmUtQf-"
      },
      "source": [
        "## **2. Casting**\n",
        "\n",
        "There may be times when you want to specify a type on to a variable. This can be done with casting. Python is an object-orientated language, and as such it uses classes to define data types, including its primitive types.\n",
        "\n",
        "Casting in python is therefore done using constructor functions:\n",
        "\n",
        "    int() - constructs an integer number from an integer literal, a float literal (by removing all decimals), or a string literal (providing the string represents a whole number)\n",
        "    float() - constructs a float number from an integer literal, a float literal or a string literal (providing the string represents a float or an integer)\n",
        "    str() - constructs a string from a wide variety of data types, including strings, integer literals and float literals\n"
      ]
    },
    {
      "cell_type": "code",
      "execution_count": null,
      "metadata": {
        "id": "SrRGf_UDtQf-"
      },
      "outputs": [],
      "source": [
        "x = str(3)    # x will be '3'\n",
        "y = int(3)    # y will be 3\n",
        "z = float(3)\n",
        "print(x)\n",
        "print(type(x))\n",
        "print('\\n')\n",
        "print(y)\n",
        "print(type(y))\n",
        "print('\\n')\n",
        "print(z)\n",
        "print(type(z))\n",
        "print('')"
      ]
    },
    {
      "cell_type": "markdown",
      "metadata": {
        "id": "EOavrwTJbtoN"
      },
      "source": [
        "## **3. Operaciones básicas**\n",
        "\n",
        "Python divides the operators in the following groups:\n",
        "\n",
        "    Arithmetic operators\n",
        "    Assignment operators\n",
        "    Comparison operators\n",
        "    Logical operators\n",
        "    Identity operators\n",
        "    Membership operators\n",
        "    Bitwise operators\n",
        "    \n",
        "https://www.w3schools.com/python/python_operators.asp"
      ]
    },
    {
      "cell_type": "markdown",
      "metadata": {
        "id": "aEEWmNobtQgA"
      },
      "source": [
        "#### Arithmetic Operators\n",
        "- Addition \tx + y \t\n",
        "- Subtraction \tx - y \t\n",
        "- Multiplication \tx * y \t\n",
        "- Division \tx / y \t\n",
        "- Modulus \tx % y \t\n",
        "- Exponentiation \tx ** y \t\n",
        "- Floor division \tx // y"
      ]
    },
    {
      "cell_type": "code",
      "execution_count": null,
      "metadata": {
        "id": "B9HyfQ_qboa4"
      },
      "outputs": [],
      "source": [
        "a = 10\n",
        "b = 3\n",
        "c = a*b\n",
        "d = a/b\n",
        "e = a//b\n",
        "f = a % b\n",
        "g = a**b\n",
        "h = a**(1/2)\n",
        "\n",
        "print('a=',a,'b=',b,'c=',c,'d=',d,'e=',e,'f=',f,'g=',g,'h=',h)\n"
      ]
    },
    {
      "cell_type": "code",
      "execution_count": null,
      "metadata": {
        "id": "t1GCFaOxpiUc"
      },
      "outputs": [],
      "source": [
        "#cómo intercambiar valores de dos variables en una sóla línea:\n",
        "a = 10\n",
        "b = -10\n",
        "a, b = b, a\n",
        "print(a, b)"
      ]
    },
    {
      "cell_type": "markdown",
      "metadata": {
        "id": "2KeBh1mQauyo"
      },
      "source": [
        "# **4. Cadenas de caracteres**\n",
        "\n",
        "- Strings in python are surrounded by either single quotation marks, or double quotation marks.\n",
        "\n",
        "- 'hello' is the same as \"hello\".\n",
        "\n",
        "- You can display a string literal with the print() function."
      ]
    },
    {
      "cell_type": "code",
      "execution_count": null,
      "metadata": {
        "id": "SzBx6fCXacrZ"
      },
      "outputs": [],
      "source": [
        "#Las cadenas de caracteres en Python son inmutables (no se pueden cambiar).\n",
        "\n",
        "d = \"hola\"   #Puede usar comillas dobles.\n",
        "e = \" mundo\"\n",
        "f = '!!!'    #También puede usar comillas simples.\n",
        "g = d+e+f    #Concatenación (se crea una nueva cadena).\n",
        "\n",
        "print(g)\n",
        "\n",
        "print(d[0],'-',d[1],'-',d[2],'-',d[3])\n",
        "\n",
        "print(d[-1],'-',d[-2],'-',d[-3],'-',d[-4])\n",
        "\n",
        "# Caracteres especiales:\n",
        "# \\'\tproduce '\n",
        "# \\\"\tproduce \"\n",
        "# \\\\\tproduce \\\n",
        "# \\n  introduce un enter\n",
        "\n",
        "# \"\"\" línea 1\n",
        "#     linea 2\n",
        "#     línea N\"\"\"  #Las triples comillas dobles permiten crear cadenas de caracteres con enter sin necesidad de usar el caracter de línea nueva \\n"
      ]
    },
    {
      "cell_type": "code",
      "execution_count": null,
      "metadata": {
        "id": "kSn-R-pItQgD"
      },
      "outputs": [],
      "source": [
        "x = range(6)\n",
        "print(x)\n",
        "print(type(x))"
      ]
    },
    {
      "cell_type": "code",
      "execution_count": null,
      "metadata": {
        "id": "Jao9FssYtQgD",
        "scrolled": false
      },
      "outputs": [],
      "source": [
        "for i in x:\n",
        "    print(i)"
      ]
    },
    {
      "cell_type": "code",
      "execution_count": null,
      "metadata": {
        "id": "u9KpC3qCtQgE"
      },
      "outputs": [],
      "source": [
        "s1=\"juego\"\n",
        "print('La variable s1 contiene: ',s1)\n",
        "print(type(s1))"
      ]
    },
    {
      "cell_type": "code",
      "execution_count": null,
      "metadata": {
        "id": "S6-6vknxtQgE"
      },
      "outputs": [],
      "source": [
        "print('La variable s1 contiene: '+ s1)"
      ]
    },
    {
      "cell_type": "code",
      "execution_count": null,
      "metadata": {
        "id": "LpVRvXPHaP9M",
        "scrolled": false
      },
      "outputs": [],
      "source": [
        "s = \"\"\"Luke Skywalker has vanished.\n",
        "In his absence, the sinister\n",
        "FIRST ORDER has risen\n",
        "from the ashes of the Empire\n",
        "and will not rest until Skywalker, the last Jedi,\n",
        "has been destroyed.\"\"\"\n",
        "\n",
        "s2=s.upper()   #Se crea una nueva cadena que tiene todas las letras en mayúsculas. \n",
        "print(s2,'\\n')\n",
        "\n",
        "s3=s.lower()   #Se crea una nueva cadena que tiene todas las letras en minúsculas. \n",
        "print(s3,'\\n')\n",
        "\n",
        "\n",
        "idx=s.index(\"has\") #Este método retorna el índice donde empieza la subcadena que se pasa como argumento.\n",
        "print('El índice es',idx,'\\n')\n",
        "\n",
        "print('La cadena original comienza con Luke?',s.startswith('Luke'))\n",
        "print('La cadena original termina con destroyed.?',s.endswith('destroyed.'))"
      ]
    },
    {
      "cell_type": "code",
      "execution_count": null,
      "metadata": {
        "id": "YkmGSgtheJ-d"
      },
      "outputs": [],
      "source": [
        "#Usando .split() para separar palabras:\n",
        "frase = \"Camina plácidamente entre el ruido y la prisa, y recuerda la paz que existe en el silencio.\"\n",
        "lista_de_palabras = frase.split()  #Por defecto, split() separa las palabras usando espacios. Note que la \",\" queda como parte de la palabra prisa en este ejemplo.\n",
        "print(lista_de_palabras)\n",
        "print('\\n')\n",
        "\n",
        "frase = \"Evita-a-las-personas-ruidosas-y-agresivas...\"\n",
        "lista_de_palabras = frase.split('-') #En este caso se separan las palabras usando un caracter predefinido '-'.\n",
        "print(lista_de_palabras)\n",
        "print('\\n')\n",
        "\n",
        "#Uniendo palabras en una lista con un caracter predefinido:\n",
        "cadena='/'.join(['inteligencia artificial','aprendizaje automático','aprendizaje supervisado'])\n",
        "print(cadena)\n",
        "print('\\n')"
      ]
    },
    {
      "cell_type": "code",
      "execution_count": null,
      "metadata": {
        "id": "X9HqLy-Nhym-",
        "scrolled": true
      },
      "outputs": [],
      "source": [
        "#Uso de str() y format()\n",
        "\n",
        "s = 'La aceleración de la gravedad en la tierra es de aproximadamente '+str(9.8)+' m/s^2.'  #Conversión de número a string\n",
        "print(s)\n",
        "print('\\n')\n",
        "\n",
        "s2 = 'El radio de la tierra es de {} km, y su masa es de {} kg.'.format(6371,5.972E24)      #cada {} se reemplaza por los argumentos que se usan en format.\n",
        "print(s2)\n",
        "print('\\n')\n",
        "\n",
        "s3 = 'El número pi se puede aproximar con 4 decimales como {:.4f}.'.format(3.14159265358)   #Usando representación con 4 decimales.\n",
        "print(s3)\n",
        "print('\\n')\n",
        "\n",
        "s4 = 'La población mundial en 2020 fue de aproximadamente {:,}.'.format(7794798739)          #Usando la , como separador de miles.\n",
        "print(s4)\n",
        "print('\\n')\n",
        "\n",
        "s5 = 'Se espera que para 2050 la población alcance {:.3e}.'.format(9700000000 )             #Usando notación científica con 3 decimales.\n",
        "print(s5)\n",
        "print('\\n')"
      ]
    },
    {
      "cell_type": "code",
      "execution_count": null,
      "metadata": {
        "id": "IBHwi8zhtQgG"
      },
      "outputs": [],
      "source": [
        "myorder = 'I have a {carname}, it is a {model}'\n",
        "var_carname = 'ford'\n",
        "var_model = 'mustang'\n",
        "print(myorder.format(carname = var_carname,model = var_model))"
      ]
    },
    {
      "cell_type": "code",
      "execution_count": null,
      "metadata": {
        "id": "RxclgLPrtQgH"
      },
      "outputs": [],
      "source": [
        "product = 'It has a density of {den:.4f} kg/m^3'\n",
        "var_den = 95.48521245\n",
        "print(product.format(den=var_den))"
      ]
    },
    {
      "cell_type": "code",
      "execution_count": null,
      "metadata": {
        "id": "oBoaQMYDtQgH"
      },
      "outputs": [],
      "source": [
        "a = 12.456673243\n",
        "print(\"Número 1: %.2f \" % a)"
      ]
    },
    {
      "cell_type": "code",
      "execution_count": null,
      "metadata": {
        "id": "Vq7o9j3VtQgI"
      },
      "outputs": [],
      "source": [
        "a = 12.456673243\n",
        "b = 23.4546546\n",
        "print(\"Número 1: %.2f ,  Número 2: %.2f\" % (a, b))"
      ]
    },
    {
      "cell_type": "markdown",
      "metadata": {
        "id": "_dUTFknAtQgI"
      },
      "source": [
        "#### **Pregunta 4.1**\n",
        "\n",
        "Insert the correct syntax to add a placeholder for the age parameter.\n",
        "\n",
        "age = 36\n",
        "txt = \"My name is John, and I am ?\"\n",
        "print(txt.format(age))\n"
      ]
    },
    {
      "cell_type": "code",
      "execution_count": null,
      "metadata": {
        "colab": {
          "base_uri": "https://localhost:8080/"
        },
        "id": "L1ieEbHAtQgI",
        "outputId": "e4d9c89c-1e82-4736-ec85-fd655d7fa14b"
      },
      "outputs": [
        {
          "name": "stdout",
          "output_type": "stream",
          "text": [
            "My name is John, and I am 36\n"
          ]
        }
      ],
      "source": [
        "age = 36 \n",
        "txt = \"My name is John, and I am {}\" \n",
        "print(txt.format(age))"
      ]
    },
    {
      "cell_type": "markdown",
      "metadata": {
        "id": "ZFVp9vhSdqRx"
      },
      "source": [
        "## **5. Variables booleanas y condicionales**"
      ]
    },
    {
      "cell_type": "code",
      "execution_count": null,
      "metadata": {
        "id": "d4cFwwCyduKu"
      },
      "outputs": [],
      "source": [
        "a = True\n",
        "b = False\n",
        "c = a and b\n",
        "d = a or b\n",
        "e = not a\n",
        "print(c)\n",
        "print(d)\n",
        "print(e,'\\n')\n",
        "\n",
        "\n",
        "f = (5<3)\n",
        "g = (1>=1)\n",
        "h = (1==2)\n",
        "k = (3!=5)\n",
        "\n",
        "print(f)\n",
        "print(g)\n",
        "print(h)\n",
        "print(k)\n"
      ]
    },
    {
      "cell_type": "code",
      "execution_count": null,
      "metadata": {
        "id": "2UBG6Ty5aqk3"
      },
      "outputs": [],
      "source": [
        "a = 3\n",
        "\n",
        "if a<0:\n",
        "  print('a es negativo')\n",
        "elif a>0:\n",
        "  print('a es positivo')\n",
        "else:\n",
        "  print('a es igual a cero')\n",
        "\n"
      ]
    },
    {
      "cell_type": "markdown",
      "metadata": {
        "id": "zm_2jqhtfYnR"
      },
      "source": [
        "## **6. Tuplas**\n",
        "\n",
        "- Tuples are used to store multiple items in a single variable.\n",
        "\n",
        "- Tuple is one of 4 built-in data types in Python used to store collections of data, the other 3 are List, Set, and Dictionary, all with different qualities and usage.\n",
        "\n",
        "- A tuple is a collection which is **ordered** and **unchangeable**.\n",
        "\n",
        "- Tuples are written with round brackets."
      ]
    },
    {
      "cell_type": "code",
      "execution_count": null,
      "metadata": {
        "id": "1K1HHlo7ejup"
      },
      "outputs": [],
      "source": [
        "a = (3,4,6)\n",
        "print(type(a))\n",
        "\n",
        "print(a[0])\n",
        "print(a[1])\n",
        "\n",
        "#Las tuplas se usan para retornar varios valores en una función."
      ]
    },
    {
      "cell_type": "code",
      "execution_count": null,
      "metadata": {
        "id": "GU-824uWtQgK"
      },
      "outputs": [],
      "source": [
        "a[0] = 10   #Error !! Las tuplas no se pueden modificar, una vez se han creado. "
      ]
    },
    {
      "cell_type": "markdown",
      "metadata": {
        "id": "GSEtCqpktQgK"
      },
      "source": [
        "#### **Pregunta 6.1**\n",
        "\n",
        "Print the first item in the fruits tuple.\n",
        "\n",
        "fruits = (\"apple\", \"banana\", \"cherry\")"
      ]
    },
    {
      "cell_type": "code",
      "execution_count": null,
      "metadata": {
        "colab": {
          "base_uri": "https://localhost:8080/"
        },
        "id": "XgjLrrNAtQgL",
        "outputId": "f8f71eed-d84e-4a16-b5a5-9804a8d31547"
      },
      "outputs": [
        {
          "name": "stdout",
          "output_type": "stream",
          "text": [
            "apple\n"
          ]
        }
      ],
      "source": [
        "fruits = (\"apple\", \"banana\", \"cherry\")\n",
        "print(fruits[0])"
      ]
    },
    {
      "cell_type": "markdown",
      "metadata": {
        "id": "vQtMgasutQgL"
      },
      "source": [
        "#### **Pregunta 6.2**\n",
        "\n",
        "Use the correct syntax to print the number of items in the fruits tuple.\n",
        "\n",
        "fruits = (\"apple\", \"banana\", \"cherry\")"
      ]
    },
    {
      "cell_type": "code",
      "execution_count": null,
      "metadata": {
        "colab": {
          "base_uri": "https://localhost:8080/"
        },
        "id": "UrqPgaxutQgM",
        "outputId": "a5a01880-2a26-4747-ba41-22442d6640c9"
      },
      "outputs": [
        {
          "name": "stdout",
          "output_type": "stream",
          "text": [
            "3\n"
          ]
        }
      ],
      "source": [
        "fruits = (\"apple\", \"banana\", \"cherry\")\n",
        "print(len(fruits))"
      ]
    },
    {
      "cell_type": "markdown",
      "metadata": {
        "id": "OfChGbt-tQgM"
      },
      "source": [
        "#### **Pregunta 6.3**\n",
        "\n",
        "Use negative indexing to print the last item in the tuple.\n",
        "\n",
        "fruits = (\"apple\", \"banana\", \"cherry\")"
      ]
    },
    {
      "cell_type": "code",
      "execution_count": null,
      "metadata": {
        "colab": {
          "base_uri": "https://localhost:8080/"
        },
        "id": "DAxb6ctBtQgM",
        "outputId": "8a0784f0-0bdb-4ac8-e9d0-250679f9de6a"
      },
      "outputs": [
        {
          "name": "stdout",
          "output_type": "stream",
          "text": [
            "cherry\n"
          ]
        }
      ],
      "source": [
        "fruits = (\"apple\", \"banana\", \"cherry\")\n",
        "print(fruits[-1])"
      ]
    },
    {
      "cell_type": "markdown",
      "metadata": {
        "id": "Rx6xtqa1tQgM"
      },
      "source": [
        "#### **Pregunta 6.4**\n",
        "\n",
        "Use a range of indexes to print the third, fourth, and fifth item in the tuple.\n",
        "\n",
        "fruits = (\"apple\", \"banana\", \"cherry\", \"orange\", \"kiwi\", \"melon\", \"mango\")"
      ]
    },
    {
      "cell_type": "code",
      "execution_count": null,
      "metadata": {
        "colab": {
          "base_uri": "https://localhost:8080/"
        },
        "id": "zH7VHGHqtQgM",
        "outputId": "87bf86b0-84d1-474d-a54f-69ed60cbc515"
      },
      "outputs": [
        {
          "name": "stdout",
          "output_type": "stream",
          "text": [
            "('cherry', 'orange', 'kiwi')\n"
          ]
        }
      ],
      "source": [
        "fruits = (\"apple\", \"banana\", \"cherry\", \"orange\", \"kiwi\", \"melon\", \"mango\")\n",
        "print(fruits[2:5])"
      ]
    },
    {
      "cell_type": "markdown",
      "metadata": {
        "id": "-ftk63ohf92J"
      },
      "source": [
        "## **7. Listas**\n",
        "\n",
        "- Lists are used to store multiple items in a single variable.\n",
        "\n",
        "- Lists are one of 4 built-in data types in Python used to store collections of data, the other 3 are Tuple, Set, and Dictionary, all with different qualities and usage.\n",
        "\n",
        "- Lists are created using square brackets.\n",
        "\n",
        "- List items are **ordered**, **changeable**, and **allow duplicate values**."
      ]
    },
    {
      "cell_type": "code",
      "execution_count": null,
      "metadata": {
        "id": "YJ-ZYkJ_fdhJ"
      },
      "outputs": [],
      "source": [
        "a = [1,3,5,7]\n",
        "print(type(a))\n",
        "print(a)\n",
        "\n",
        "print(a[0])    #Selecciona el primer elemento.\n",
        "print(a[1])    #Selecciona el segundo elemento.\n",
        "print(a[0:2])  #Selecciona los dos primeros elementos de la lista, es decir a[0] y a[1].\n",
        "print(a[:3])   #Selecciona los tres primeros elementos de la lista.\n",
        "print(a[2:])   #Selecciona del tercer elemento en adelante.\n",
        "print(a[1:-1]) #Selecciona del segundo elemento al penúltimo.\n",
        "print(a[-2:])  #Selecciona los dos últimos elementos.\n",
        "\n",
        "print(len(a))  #La función len() retorna la longitud de la lista.\n",
        "\n",
        "b = [9,11]\n",
        "c = a+b        #Concatenación de listas.\n",
        "print(c,'\\n') \n",
        "\n",
        "print(c[0:6:2]) #Selecciona elementos siguiendo el patrón inicio:fin+1:salto  Note que a diferencia de programas como Matlab, el salto va al final !\n",
        "                #Cuando el salto no se especifica, Python asume que es 1.\n",
        "\n"
      ]
    },
    {
      "cell_type": "code",
      "execution_count": null,
      "metadata": {
        "id": "Ek7sZcjGgEQJ"
      },
      "outputs": [],
      "source": [
        "a = ['azul','amarillo','verde']\n",
        "print(a)\n",
        "a[1]='naranja'            #Cambia el contenido del segundo elemento.\n",
        "print(a)\n",
        "a[0:2] = ['plata','ocre'] #Cambia el contenido de los dos primeros elementos\n",
        "print(a)\n",
        "\n",
        "b = [1,2,3,4.15]\n",
        "c = a + b\n",
        "print(c)\n"
      ]
    },
    {
      "cell_type": "code",
      "execution_count": null,
      "metadata": {
        "id": "eWktOuzmgxkJ"
      },
      "outputs": [],
      "source": [
        "a = [[1,2,3],\n",
        "     [4,5,6],\n",
        "     [7,8,9]]  #Se puede inclur una , antes del último corchete pero es innecesario.\n",
        "\n",
        "print('a=',a)\n",
        "print('a[0][1]=', a[0][1])\n",
        "\n",
        "\n",
        "b  = [4,1,3,8,0]\n",
        "print('sum(b)=',sum(b))\n",
        "print('sorted(b)=',sorted(b))\n",
        "print('min(b)=',min(b))\n",
        "print('max(b)=',max(b))\n",
        "\n"
      ]
    },
    {
      "cell_type": "code",
      "execution_count": null,
      "metadata": {
        "id": "XvrxwDpVmbhj"
      },
      "outputs": [],
      "source": [
        "a = []        #Lista vacía\n",
        "a.append(1)   #El método append agrega el elemento al final de la lista.\n",
        "a.append(-12)\n",
        "a.append(10)\n",
        "print('a=',a)\n",
        "\n",
        "a.pop()       #El método pop elimina el último elemento de la lista. \n",
        "print('La lista a después de hacer pop =',a)\n",
        "\n",
        "a.reverse()  #El método reverse() invierte el orden de la lista.\n",
        "print(a)\n"
      ]
    },
    {
      "cell_type": "code",
      "execution_count": null,
      "metadata": {
        "id": "t0RHqpYXnFUE"
      },
      "outputs": [],
      "source": [
        "a = ['Pedro','Juan','Felipe','Sandra','Cesar','Sebastian','Maria']\n",
        "print('El índice de Sandra en la lista es ',a.index('Sandra'))  #index es un método que retorna el índice del elemento que se busca.\n",
        "\n",
        "\n",
        "respuesta = \"Andres\" in a\n",
        "print('Está el nombre de Andres en la lista a?',respuesta)\n"
      ]
    },
    {
      "cell_type": "markdown",
      "metadata": {
        "id": "-tLjnwU6tQgP"
      },
      "source": [
        "#### **Pregunta 7.1**"
      ]
    },
    {
      "cell_type": "code",
      "execution_count": null,
      "metadata": {
        "id": "jIC3l6ictQgP"
      },
      "outputs": [],
      "source": [
        "numbers = [10, 45, 20, 67, 29, 12, 15, 99, 40, 23]\n",
        "\n",
        "### Repalce the \"None\" values with your solutions\n",
        "last_number = numbers[-1]\n",
        "\n",
        "before_last_number = numbers[-2]\n",
        "\n",
        "first_number = numbers[0]\n",
        "\n",
        "seventh_number = numbers[6]\n",
        "\n",
        "first_five_numbers = numbers[0:4]\n",
        "\n",
        "last_three_numbers = numbers[-3:-1]\n",
        "\n",
        "### Get the numbers from the third number (inclusive) to the sixth number (inclusive)\n",
        "third_to_sixth_numbers = numbers[2:6]\n",
        "\n",
        "reversed_numbers = numbers.reverse"
      ]
    },
    {
      "cell_type": "markdown",
      "metadata": {
        "id": "wfRxaOPhtQgQ"
      },
      "source": [
        "#### **Pregunta 7.2**\n",
        "\n",
        "Use the remove method to remove \"banana\" from the fruits list.\n",
        "\n",
        "fruits = [\"apple\", \"banana\", \"cherry\"]"
      ]
    },
    {
      "cell_type": "code",
      "execution_count": null,
      "metadata": {
        "colab": {
          "base_uri": "https://localhost:8080/"
        },
        "id": "PBw8WD1d1m6g",
        "outputId": "cbc48e8c-0fa6-48d0-89ef-dcceb6241783"
      },
      "outputs": [
        {
          "name": "stdout",
          "output_type": "stream",
          "text": [
            "['apple', 'cherry']\n"
          ]
        }
      ],
      "source": [
        "fruits = [\"apple\", \"banana\", \"cherry\"]\n",
        "fruits.remove(\"banana\")\n",
        "print(fruits)"
      ]
    },
    {
      "cell_type": "markdown",
      "metadata": {
        "id": "2yYojtBttQgQ"
      },
      "source": [
        "#### **Pregunta 7.3**\n",
        "\n",
        "Use the insert method to add \"lemon\" as the second item in the fruits list.\n",
        "\n",
        "fruits = [\"apple\", \"banana\", \"cherry\"]"
      ]
    },
    {
      "cell_type": "code",
      "execution_count": null,
      "metadata": {
        "colab": {
          "base_uri": "https://localhost:8080/"
        },
        "id": "w2k7LHSc2TNt",
        "outputId": "b164bc14-2c0e-4922-875a-f75a7807eb78"
      },
      "outputs": [
        {
          "name": "stdout",
          "output_type": "stream",
          "text": [
            "['apple', 'lemon', 'banana', 'cherry']\n"
          ]
        }
      ],
      "source": [
        "fruits = [\"apple\", \"banana\", \"cherry\"]\n",
        "fruits.insert(1, \"lemon\")\n",
        "print(fruits)"
      ]
    },
    {
      "cell_type": "markdown",
      "metadata": {
        "id": "I39FfNN-tQgQ"
      },
      "source": [
        "#### **Pregunta 7.4**\n",
        "\n",
        "Use the append method to add \"orange\" to the fruits list.\n",
        "\n",
        "fruits = [\"apple\", \"banana\", \"cherry\"]"
      ]
    },
    {
      "cell_type": "code",
      "execution_count": null,
      "metadata": {
        "colab": {
          "base_uri": "https://localhost:8080/"
        },
        "id": "LCYJ1yRx29AV",
        "outputId": "1302d7d5-e97c-4d6b-9751-523b72306e13"
      },
      "outputs": [
        {
          "name": "stdout",
          "output_type": "stream",
          "text": [
            "['apple', 'banana', 'cherry', 'orange']\n"
          ]
        }
      ],
      "source": [
        "fruits = [\"apple\", \"banana\", \"cherry\"]\n",
        "fruits.append(\"orange\")\n",
        "print(fruits)"
      ]
    },
    {
      "cell_type": "markdown",
      "metadata": {
        "id": "DHtH9VWZtQgR"
      },
      "source": [
        "#### **Pregunta 7.5**\n",
        "\n",
        "Change the value from \"apple\" to \"kiwi\", in the fruits list.\n",
        "\n",
        "fruits = [\"apple\", \"banana\", \"cherry\"]"
      ]
    },
    {
      "cell_type": "code",
      "execution_count": null,
      "metadata": {
        "colab": {
          "base_uri": "https://localhost:8080/"
        },
        "id": "KLRfKoXW3me4",
        "outputId": "5458a8c2-9937-45a7-8848-cb721882cbd4"
      },
      "outputs": [
        {
          "name": "stdout",
          "output_type": "stream",
          "text": [
            "['kiwi', 'banana', 'cherry']\n"
          ]
        }
      ],
      "source": [
        "fruits = [\"apple\", \"banana\", \"cherry\"]\n",
        "fruits[0]=\"kiwi\"\n",
        "print(fruits)"
      ]
    },
    {
      "cell_type": "markdown",
      "metadata": {
        "id": "mkPswyki9sKp"
      },
      "source": [
        "### **7.1 Comprensión de listas**\n",
        "\n",
        "List comprehension offers a shorter syntax when you want to create a new list based on the values of an existing list."
      ]
    },
    {
      "cell_type": "code",
      "execution_count": null,
      "metadata": {
        "id": "NBqEvw0J6owW"
      },
      "outputs": [],
      "source": [
        "pi = 3.1415926\n",
        "lista_con_areas_de_circulos = [pi*(r**2) for r in range(1,4,1)]\n",
        "print(lista_con_areas_de_circulos)"
      ]
    },
    {
      "cell_type": "code",
      "execution_count": null,
      "metadata": {
        "id": "Wbv9VCUe9U-i"
      },
      "outputs": [],
      "source": [
        "sustantivos = ['vaso','eslabón','reloj','cajón','mesa','ventana']\n",
        "sustantivos_largos = [sustantivo for sustantivo in sustantivos if len(sustantivo) > 5]  #Crea una nueva lista con aquellos elementos que tienen más de 5 caracteres.\n",
        "print(sustantivos_largos)\n"
      ]
    },
    {
      "cell_type": "code",
      "execution_count": null,
      "metadata": {
        "id": "AQJ6Mvyq-QJC"
      },
      "outputs": [],
      "source": [
        "X = [-3, -2, -1, 0, 1, 2]\n",
        "relu_x = [x if x>=0 else 0 for x in X]  #Función de activación ReLU (rectified linear unit).\n",
        "                                        #la expresión que se usó tiene la forma [a if C else b for i in items] \n",
        "print(relu_x)"
      ]
    },
    {
      "cell_type": "markdown",
      "metadata": {
        "id": "5fnQ52AJhMTp"
      },
      "source": [
        "## **8. Diccionarios**\n",
        "\n",
        "- Dictionaries are used to store data values in key:value pairs.\n",
        "\n",
        "- A dictionary is a collection which is **ordered (as of Python version 3.7, dictionaries are ordered. In Python 3.6 and earlier, dictionaries are unordered)**, **changeable** and **do not allow duplicates**.\n"
      ]
    },
    {
      "cell_type": "code",
      "execution_count": null,
      "metadata": {
        "id": "il2isSsog_5Z"
      },
      "outputs": [],
      "source": [
        "#Creación de un diccionario.\n",
        "empleado1 = {'Nombre': 'Pedro', 'Apellido' : 'Fernandez', 'Cédula': 55656889,'Edad': 28}  #Las llaves del diccionario serían Nombre Apellido Cédula y Edad.\n",
        "print(type(empleado1))\n",
        "print(empleado1)\n",
        "\n",
        "#Acceso al valor de una llave en un diccionario.\n",
        "print('El nombre del empleado1 es: ', empleado1['Nombre'])\n",
        "\n",
        "#Adición de una nueva llave y valor.\n",
        "empleado1['Año de vinculación']=2020  \n",
        "print(empleado1)\n",
        "\n",
        "#Editando el valor asociado a una llave.\n",
        "empleado1['Edad']=29                  \n",
        "print(empleado1)\n",
        "\n",
        "#El operador in nos dice si una llave está en el diccionario.\n",
        "print('Pudimos registrar la información de la EPS del empleado1?','EPS' in empleado1)\n",
        "print()"
      ]
    },
    {
      "cell_type": "code",
      "execution_count": null,
      "metadata": {
        "colab": {
          "base_uri": "https://localhost:8080/"
        },
        "id": "KhVeZog60c3C",
        "outputId": "2f894719-07de-4d14-d1fd-418db57d9364"
      },
      "outputs": [
        {
          "name": "stdout",
          "output_type": "stream",
          "text": [
            "<class 'dict_keys'>\n",
            "\n",
            "dict_keys(['Nombre', 'Apellido', 'Cédula', 'Edad', 'ARL'])\n",
            "\n",
            "<class 'dict_values'>\n",
            "\n",
            "dict_values(['Pedro', 'Fernandez', 55656889, 30, 'Sura'])\n",
            "\n",
            "* Nombre\n",
            "* Apellido\n",
            "* Cédula\n",
            "* Edad\n",
            "* ARL\n",
            "\n",
            "[-] Pedro\n",
            "[-] Fernandez\n",
            "[-] 55656889\n",
            "[-] 30\n",
            "[-] Sura\n"
          ]
        }
      ],
      "source": [
        "empleado1 = {'Nombre': 'Pedro', 'Apellido' : 'Fernandez', 'Cédula': 55656889,'Edad': 28} \n",
        "\n",
        "#Vista de las llaves (si se modifica el objeto, se modifican las vistas!!)\n",
        "llaves_del_diccionario = empleado1.keys() \n",
        "print(type(llaves_del_diccionario))\n",
        "print()\n",
        "empleado1['ARL']='Sura'\n",
        "print(llaves_del_diccionario) #Va a aparecer la llave ARL !\n",
        "print()\n",
        "\n",
        "#Vista de los valores (si se modifica el objeto, se modifican las vistas!!)\n",
        "valores_del_diccionario = empleado1.values()  \n",
        "print(type(valores_del_diccionario))\n",
        "print()\n",
        "empleado1['Edad']=30 \n",
        "print(valores_del_diccionario) #Va a aparecer 30 en lugar de 28 !\n",
        "print()\n",
        "\n",
        "for llave in llaves_del_diccionario:\n",
        "  print('* {}'.format(llave))\n",
        "\n",
        "print()\n",
        "\n",
        "for valor in valores_del_diccionario:\n",
        "  print('[-] {}'.format(valor))\n"
      ]
    },
    {
      "cell_type": "code",
      "execution_count": null,
      "metadata": {
        "id": "TNmajEol0hpS"
      },
      "outputs": [],
      "source": [
        "empleado1 = {'Nombre': 'Pedro', 'Apellido' : 'Fernandez', 'Cédula': 55656889,'Edad': 28}\n",
        "\n",
        "#Extracción de las llaves de un diccionario como una lista:\n",
        "lista_de_llaves =  [llave for llave in empleado1]\n",
        "print(lista_de_llaves)\n",
        "print()\n",
        "\n",
        "#Extracción de los valores de un diccionario como una lista:\n",
        "lista_de_valores =  [empleado1[llave] for llave in empleado1]\n",
        "print(lista_de_valores)\n",
        "print()\n",
        "print(type(lista_de_valores))\n",
        "print()"
      ]
    },
    {
      "cell_type": "code",
      "execution_count": null,
      "metadata": {
        "id": "IjExdULWtQgT"
      },
      "outputs": [],
      "source": [
        "for i in empleado1:\n",
        "    print(i)"
      ]
    },
    {
      "cell_type": "code",
      "execution_count": null,
      "metadata": {
        "id": "NtPbvdxH3zQT"
      },
      "outputs": [],
      "source": [
        "#El método .items() nos permite iterar sobre las llaves y valores del diccionario de forma simultánea.\n",
        "\n",
        "empleado1 = {'Nombre': 'Pedro', 'Apellido' : 'Fernandez', 'Cédula': 55656889,'Edad': 28}\n",
        "for llave, valor in empleado1.items():\n",
        "  print('La llave es {} y el valor es {}'.format(llave, valor))\n",
        "\n"
      ]
    },
    {
      "cell_type": "markdown",
      "metadata": {
        "id": "YhCUKRu4tQgU"
      },
      "source": [
        "## **Dictionaries vs Lists**\n",
        "\n",
        "Let’s see an example and compare the lists versus dictionaries. Imagine that we have some movies and you want to store the ratings for them. Also, we want to access the rating for a movie very fast by having the movie name. We can do this by using two lists or one dictionary."
      ]
    },
    {
      "cell_type": "code",
      "execution_count": null,
      "metadata": {
        "id": "RIZY5bpptQgU"
      },
      "outputs": [],
      "source": [
        "movies = [\"Ex Machina\", \"Mad Max: Fury Road\", \"1408\"]\n",
        "ratings = [7.7, 8.1, 6.8]"
      ]
    },
    {
      "cell_type": "markdown",
      "metadata": {
        "id": "uUVMEQu4tQgV"
      },
      "source": [
        "#### Pregunta 8.1\n",
        "\n",
        "¿Cómo acceder al rating de la película Mad Max?"
      ]
    },
    {
      "cell_type": "code",
      "execution_count": null,
      "metadata": {
        "colab": {
          "base_uri": "https://localhost:8080/"
        },
        "id": "g-eDapBAtQgV",
        "outputId": "727334ba-0396-464e-e079-b5065be7b774"
      },
      "outputs": [
        {
          "data": {
            "text/plain": [
              "8.1"
            ]
          },
          "execution_count": 50,
          "metadata": {},
          "output_type": "execute_result"
        }
      ],
      "source": [
        "movies = [\"Ex Machina\", \"Mad Max: Fury Road\", \"1408\"]\n",
        "ratings = [7.7, 8.1, 6.8]\n",
        "\n",
        "ratings[movies.index((\"Mad Max: Fury Road\"))]"
      ]
    },
    {
      "cell_type": "markdown",
      "metadata": {
        "id": "-ZXnPQSYtQgV"
      },
      "source": [
        "#### **Pregunta 8.2**\n",
        "\n",
        "¿Cómo implementar el mismo sistema con un diccionario?"
      ]
    },
    {
      "cell_type": "markdown",
      "metadata": {
        "id": "AfhW5Fs2tQgV"
      },
      "source": []
    },
    {
      "cell_type": "code",
      "execution_count": null,
      "metadata": {
        "colab": {
          "base_uri": "https://localhost:8080/"
        },
        "id": "AcUFpWsu82ip",
        "outputId": "3985ca24-ecba-49df-feaf-2bec18b755ad"
      },
      "outputs": [
        {
          "name": "stdout",
          "output_type": "stream",
          "text": [
            "8.1\n"
          ]
        }
      ],
      "source": [
        "dic = {\"Ex Machina\":7.7,\"Mad Max: Fury Road\":8.1,\"1408\":6.8}\n",
        "print(dic[\"Mad Max: Fury Road\"])\n"
      ]
    },
    {
      "cell_type": "markdown",
      "metadata": {
        "id": "bR4HhEVKx9oe"
      },
      "source": [
        "# **9. Ciclos**"
      ]
    },
    {
      "cell_type": "code",
      "execution_count": null,
      "metadata": {
        "id": "rRa0NhCQx8GO"
      },
      "outputs": [],
      "source": [
        "lista_con_marcas_de_carros = ['fiat', 'audi', 'toyoya', 'chevrolet', 'renault', 'mitsubishi']\n",
        "\n",
        "for marca in lista_con_marcas_de_carros:  #Iterando sobre una lista\n",
        "  print(marca)\n",
        "print()\n"
      ]
    },
    {
      "cell_type": "code",
      "execution_count": null,
      "metadata": {
        "id": "2apiXeQlhlZM"
      },
      "outputs": [],
      "source": [
        "tupla_con_numeros = (3, 5, 2)\n",
        "suma=0\n",
        "for numero in tupla_con_numeros: #Iterando sobre una tupla\n",
        "  suma=suma+numero\n",
        "print('La suma de los números de la tupla es ', suma)\n"
      ]
    },
    {
      "cell_type": "code",
      "execution_count": null,
      "metadata": {
        "id": "ViRkAiff2zK_"
      },
      "outputs": [],
      "source": [
        "texto = \"Oh gloria inmarcesible, oh júbilo inmortal, en surcos de dolores, el bien germina ya.\"\n",
        "\n",
        "num_palabras = 0\n",
        "\n",
        "for c in texto:\n",
        "  if c==' ':\n",
        "    num_palabras+=1\n",
        "if c[-1]!=' ':\n",
        "    num_palabras+=1\n",
        "print('El número de palabras en el texto es igual a: ', num_palabras)    \n",
        "\n",
        "print('El número de palabras en el texto es igual a: ', len(texto.split(' ')))     #Forma más corta."
      ]
    },
    {
      "cell_type": "code",
      "execution_count": null,
      "metadata": {
        "id": "46ZwLe4J22i_"
      },
      "outputs": [],
      "source": [
        "#Cómo usar el comando range en ciclos?\n",
        "\n",
        "for i in range(5):       #Comienza en 0 y va hasta uno menos que el argumento, en este caso, hasta 4.\n",
        "  print(i)\n",
        "print()\n",
        "\n",
        "for j in range(5,39,5):  #Comienza en 5 y va hasta 35, en incrementos de 5 unidades.\n",
        "  print(j)\n",
        "print()\n",
        "\n",
        "a=[1,2,3,4,5,5]\n",
        "suma = 0\n",
        "for i in range(len(a)):  #la longitud de la lista es 6\n",
        "  suma+=a[i]\n",
        "print('La suma dió', suma)"
      ]
    },
    {
      "cell_type": "code",
      "execution_count": null,
      "metadata": {
        "id": "xia0_tkQ4M5g"
      },
      "outputs": [],
      "source": [
        "#While\n",
        "k=1\n",
        "while k<=8:\n",
        "  print(k**2)\n",
        "  k+=1"
      ]
    },
    {
      "cell_type": "markdown",
      "metadata": {
        "id": "r_ZKrvYpw6yM"
      },
      "source": [
        "## **10. Funciones**"
      ]
    },
    {
      "cell_type": "code",
      "execution_count": null,
      "metadata": {
        "id": "LCuM-Vxd_aqz",
        "scrolled": true
      },
      "outputs": [],
      "source": [
        "def area_de_una_circunferencia(radio):\n",
        "  \"\"\"\n",
        "  La descripción que usted coloque aquí se denomina docstring y va a aparecer en la ayuda de la función. \n",
        "  Si se usa la sintaxis adecuada, paquetes como Sphinx pueden crear automáticamente una página web con la documentación de sus librerías. \n",
        "  \"\"\"\n",
        "  pi = 3.1415926\n",
        "  area = pi*(radio**2)\n",
        "  return area\n",
        "\n",
        "area = area_de_una_circunferencia(2)\n",
        "print(area)\n",
        "help(area_de_una_circunferencia)"
      ]
    },
    {
      "cell_type": "code",
      "execution_count": null,
      "metadata": {
        "id": "MC1MREQgyevM"
      },
      "outputs": [],
      "source": [
        "def area_de_una_circunferencia(radio=10):  #Argumento con valor por defecto.\n",
        "  pi = 3.1415926\n",
        "  area = pi*(radio**2)\n",
        "  return area\n",
        "\n",
        "area = area_de_una_circunferencia()  #La función se llama con el argumento por defecto, 10 en este caso.\n",
        "print(area)"
      ]
    },
    {
      "cell_type": "code",
      "execution_count": null,
      "metadata": {
        "id": "fr9QzBXctPgs"
      },
      "outputs": [],
      "source": [
        "def metricas_de_una_circunferencia(radio):\n",
        "  pi        = 3.1415926\n",
        "  area      = pi*(radio**2)\n",
        "  perimetro = 2*pi*radio\n",
        "  return area, perimetro     #Una función en Python puede retornar más de una variable.\n",
        "\n",
        "area, perimetro = metricas_de_una_circunferencia(radio=2)\n",
        "print('El area es',area,'y el perímetro es', perimetro)\n",
        "\n",
        "_, perimetro2 = metricas_de_una_circunferencia(radio=2)   #Observe que no es necesario guardar todas las variables que retorna una función.\n",
        "print('El perímetro es', perimetro2)"
      ]
    },
    {
      "cell_type": "markdown",
      "metadata": {
        "id": "9Fz_CX4qgXPB"
      },
      "source": [
        "# **11. Clases y objetos**"
      ]
    },
    {
      "cell_type": "code",
      "execution_count": null,
      "metadata": {
        "id": "LKvJ_F78gb0m"
      },
      "outputs": [],
      "source": [
        "#-------------------------------------------------------------------------------\n",
        "#Notas: - Todas las clases tienen una función llamada __init __ (), que siempre se ejecuta cuando se inicia la clase.\n",
        "#       - Utilice la función __init __ () para asignar valores a las propiedades del objeto u otras operaciones que sean necesarias para realizar cuando se crea el objeto.\n",
        "#       - El parámetro self es una referencia a la instancia actual de la clase y se usa para acceder a las variables que pertenecen a la clase. \n",
        "#-------------------------------------------------------------------------------\n",
        "class estudiante:\n",
        "  def __init__(self, nombre, codigo):   \n",
        "    self.nombre = nombre              \n",
        "    self.codigo = codigo\n",
        "\n",
        "  def informacion(self):\n",
        "    print('El nombre del estudiante es {} y su código es {}.'.format(self.nombre, self.codigo))\n",
        "#-------------------------------------------------------------------------------\n",
        "\n",
        "a = estudiante('Sebastian Salazar','A1234')  #En este punto, a es un objeto de la clase estudiante. \n",
        "a.informacion()                              #Llamamos el método informacion de la clase estudiante. \n",
        "\n",
        "a.nombre = 'Sebastián Salazar'               #Editamos el valor de la propiedad nombre.\n",
        "a.informacion()\n",
        "\n",
        "print(type(a))\n",
        "\n",
        "del(a)                                        #Con el comando del borramos el objeto\n",
        "\n"
      ]
    },
    {
      "cell_type": "markdown",
      "metadata": {
        "id": "gjzdVhsHK4bG"
      },
      "source": [
        "**Fin Taller 1.**"
      ]
    },
    {
      "cell_type": "markdown",
      "metadata": {
        "id": "whX0sQXJtQgZ"
      },
      "source": [
        "# **EJERCICIOS PROPUESTOS TALLER 1**"
      ]
    },
    {
      "cell_type": "markdown",
      "metadata": {
        "id": "F5-iBi9etQga"
      },
      "source": [
        "# EJERCICIO 1. Averigua cuál es la diferencia entre el método string.index() y el método string.find() y en cuáles casos puede ser más útil uno que el otro."
      ]
    },
    {
      "cell_type": "code",
      "execution_count": null,
      "metadata": {
        "id": "7jMV4Vxw-tf5"
      },
      "outputs": [],
      "source": [
        "# Ambas funciones sirven para para encontrar el índice de una subcadena en una cadena.\n",
        "# DIFERENCIAS\n",
        "# String.find():\n",
        "# 1. Devuelve una excepción si no se encuentra la subcadena\n",
        "# 2. No debe usarse si no está seguro de la presencia de la subcadena\n",
        "# 3. Esto se puede aplicar a cadenas, listas y tuplas\n",
        "# 4. No se puede usar con una declaración condicional\n",
        "# \n",
        "# String.index():\n",
        "# 1. Devuelve -1 si no se encuentra la subcadena\n",
        "# 2. Es la función correcta para usar cuando no está seguro de la presencia de una subcadena\n",
        "# 3. Esto solo se puede aplicar a cadenas\n",
        "# 4. Se puede usar con una declaración condicional para ejecutar una declaración si se encuentra una subcadena también si no se encuentra"
      ]
    },
    {
      "cell_type": "code",
      "execution_count": null,
      "metadata": {
        "colab": {
          "base_uri": "https://localhost:8080/",
          "height": 266
        },
        "id": "h_IyTdUmHP-k",
        "outputId": "194926c1-f3c3-48cd-c9d5-aab1f2a012b9"
      },
      "outputs": [
        {
          "name": "stdout",
          "output_type": "stream",
          "text": [
            "22\n",
            "-1\n",
            "22\n"
          ]
        },
        {
          "ename": "ValueError",
          "evalue": "ignored",
          "output_type": "error",
          "traceback": [
            "\u001b[0;31m---------------------------------------------------------------------------\u001b[0m",
            "\u001b[0;31mValueError\u001b[0m                                Traceback (most recent call last)",
            "\u001b[0;32m<ipython-input-3-278984647de2>\u001b[0m in \u001b[0;36m<module>\u001b[0;34m\u001b[0m\n\u001b[1;32m     16\u001b[0m \u001b[0;31m# String.index() example\u001b[0m\u001b[0;34m\u001b[0m\u001b[0;34m\u001b[0m\u001b[0;34m\u001b[0m\u001b[0m\n\u001b[1;32m     17\u001b[0m \u001b[0mstring\u001b[0m \u001b[0;34m=\u001b[0m \u001b[0;34m\"Daniela and Duvan are IA students\"\u001b[0m\u001b[0;34m\u001b[0m\u001b[0;34m\u001b[0m\u001b[0m\n\u001b[0;32m---> 18\u001b[0;31m \u001b[0mprint\u001b[0m\u001b[0;34m(\u001b[0m\u001b[0mstring\u001b[0m\u001b[0;34m.\u001b[0m\u001b[0mindex\u001b[0m\u001b[0;34m(\u001b[0m\u001b[0;34m\"is\"\u001b[0m\u001b[0;34m)\u001b[0m\u001b[0;34m)\u001b[0m\u001b[0;34m\u001b[0m\u001b[0;34m\u001b[0m\u001b[0m\n\u001b[0m\u001b[1;32m     19\u001b[0m \u001b[0;31m#Como \"is\" no se sabe si se encuentra en la cadena, se usa el INDEX(). Como \"is\" no se encuentra en el string, lanza una excepcion\u001b[0m\u001b[0;34m\u001b[0m\u001b[0;34m\u001b[0m\u001b[0;34m\u001b[0m\u001b[0m\n",
            "\u001b[0;31mValueError\u001b[0m: substring not found"
          ]
        }
      ],
      "source": [
        "# String.find() example\n",
        "string = \"Daniela and Duvan are IA students\"\n",
        "print(string.find(\"IA\"))\n",
        "#Como \"IA\" se sabe que  se encuentra en la cadena, se usa el FIND(). Como lo encuentra, muestra el indice de la subcadena\n",
        "\n",
        "# String.find() example\n",
        "string = \"Daniela and Duvan are IA students\"\n",
        "print(string.find(\"is\"))\n",
        "#Aqui podemos ver que como no se encontro el \"is\", muestra -1.\n",
        "\n",
        "# String.index() example\n",
        "string = \"Daniela and Duvan are IA students\"\n",
        "print(string.index(\"IA\"))\n",
        "#Como \"IA\" si se encuentra en la cadena, muestra el indice de la subcadena\n",
        "\n",
        "# String.index() example\n",
        "string = \"Daniela and Duvan are IA students\"\n",
        "print(string.index(\"is\"))\n",
        "#Como \"is\" no se sabe si se encuentra en la cadena, se usa el INDEX(). Como \"is\" no se encuentra en el string, lanza una excepcion\n"
      ]
    },
    {
      "cell_type": "markdown",
      "metadata": {
        "id": "H-e36DPBtQga"
      },
      "source": [
        "#   EJERCICIO 2. Consulte cómo utilizar el paquete sphinx para crear la documentación de sus librerías https://www.sphinx-doc.org/en/master/. Implemente las funciones rect2pol() y pol2rect() que permitan transformar un número complejo de su representación rectangular a polar y de polar a rectangular, respectivamente, y elabore una documentación básica sobre su uso usando el paquete sphinx.\n"
      ]
    },
    {
      "cell_type": "markdown",
      "metadata": {
        "id": "LFtBIlbKqqzE"
      },
      "source": [
        "## Documentacion en Sphinx:\n",
        "Hay que instalar Sphinx. Entonces, pon en consola:\n",
        "\n",
        "`pip install -U sphinx`\n",
        "\n",
        "Para comprobar que Sphinx funciona correctamente pon:\n",
        "\n",
        "`python -c 'import sphinx'`\n",
        "\n",
        "Si no hay errores, no verás nada como respuesta. Para crear una documentacion pon:\n",
        "\n",
        "`sphinx-quickstar`\n",
        "\n",
        "\n",
        "Completa la informacion que te pide el sistema como nombre de proyecto, autor, lenguaje, ect\n",
        "\n",
        "***¡¡¡Y ya se podra empezar a documentar en tu archivo .rst!!!***\n",
        "\n",
        "Para mas detalles revisar [Sphinx documentation](https://www.sphinx-doc.org/en/master/usage/configuration.html)\n",
        "\n",
        "Nosotros creamos un archivo html, por lo que para construirlo solo se pone en consola\n",
        "\n",
        "`make html`\n",
        "\n",
        "\n"
      ]
    },
    {
      "cell_type": "code",
      "execution_count": 1,
      "metadata": {},
      "outputs": [],
      "source": [
        "import numpy as np\n",
        "\n",
        "def pol2cart(r,theta):\n",
        "    z = r * np.exp(1j * theta)\n",
        "    x, y = z.real, z.imag\n",
        "    return x, y\n",
        "\n",
        "def cart2pol(x, y):\n",
        "    z = x + y * 1j\n",
        "    r,theta = np.abs(z), np.angle(z)\n",
        "    return r,theta"
      ]
    },
    {
      "cell_type": "markdown",
      "metadata": {
        "id": "e0Uq1PB_RIaQ"
      },
      "source": [
        "# EJERCICIO 3. Conteste las siguientes preguntas:\n",
        "En Python 3.x, \n",
        "- ¿cómo se define la herencia en clases? Consigne un ejemplo.\n",
        "- ¿cómo se pueden borrar objetos? Consigne un ejemplo.\n",
        "- ¿cómo se definen los bloques try except? Consigne un ejemplo\n",
        "- ¿cómo se pueden lanzar excepciones? Consigne un ejemplo.\n",
        "- ¿cuál es la sintaxis de las funciones lambda? Consigne un ejemplo.\n",
        "- ¿cómo se puede almacenar una entrada que ingrese el usuario a través del teclado? Consigne un ejemplo."
      ]
    },
    {
      "cell_type": "code",
      "execution_count": null,
      "metadata": {
        "id": "8MgaKkpzkOR1"
      },
      "outputs": [],
      "source": [
        "## Herencia de clases:\n",
        "class Persona(object):\n",
        "    \"\"\"Clase que representa una Persona\"\"\"\n",
        "\n",
        "    def __init__(self, cedula, nombre, apellido, sexo):\n",
        "        \"\"\"Constructor de clase Persona\"\"\"\n",
        "        self.cedula = cedula\n",
        "        self.nombre = nombre\n",
        "        self.apellido = apellido\n",
        "        self.sexo = sexo\n",
        "\n",
        "    def __str__(self):\n",
        "        \"\"\"Devuelve una cadena representativa de Persona\"\"\"\n",
        "        return \"%s: %s, %s %s, %s.\" % (\n",
        "            self.__doc__[25:34], str(self.cedula), self.nombre, \n",
        "            self.apellido, self.getGenero(self.sexo))\n",
        "\n",
        "    def hablar(self, mensaje):\n",
        "        \"\"\"Mostrar mensaje de saludo de Persona\"\"\"\n",
        "        return mensaje\n",
        "\n",
        "    def getGenero(self, sexo):\n",
        "        \"\"\"Mostrar el genero de la Persona\"\"\"\n",
        "        genero = ('Masculino','Femenino')\n",
        "        if sexo == \"M\":\n",
        "            return genero[0]\n",
        "        elif sexo == \"F\":\n",
        "            return genero[1]\n",
        "        else:\n",
        "            return \"Desconocido\"\n",
        "\n",
        "class Supervisor(Persona):\n",
        "    \"\"\"Clase que representa a un Supervisor\"\"\"\n",
        "\n",
        "    def __init__(self, cedula, nombre, apellido, sexo, rol):\n",
        "        \"\"\"Constructor de clase Supervisor\"\"\"\n",
        "\n",
        "        # Invoca al constructor de clase Persona\n",
        "        Persona.__init__(self, cedula, nombre, apellido, sexo)\n",
        "\n",
        "        # Nuevos atributos\n",
        "        self.rol = rol\n",
        "        self.tareas = ['10','11','12','13']\n",
        "\n",
        "    def __str__(self):\n",
        "        \"\"\"Devuelve una cadena representativa al Supervisor\"\"\"\n",
        "        return \"%s: %s %s, rol: '%s', sus tareas: %s.\" % (\n",
        "            self.__doc__[26:37], self.nombre, self.apellido, \n",
        "            self.rol, self.consulta_tareas())\n",
        "\n",
        "    def consulta_tareas(self):\n",
        "        \"\"\"Mostrar las tareas del Supervisor\"\"\"\n",
        "        return ', '.join(self.tareas)"
      ]
    },
    {
      "cell_type": "code",
      "execution_count": null,
      "metadata": {
        "colab": {
          "base_uri": "https://localhost:8080/"
        },
        "id": "YD2zBfhVnmuh",
        "outputId": "f5eea92b-f54c-42dd-f02c-6ec5f46913e3"
      },
      "outputs": [
        {
          "name": "stdout",
          "output_type": "stream",
          "text": [
            "Fruits created.\n",
            "Destructor called, Fruits deleted.\n"
          ]
        }
      ],
      "source": [
        "#¿cómo se pueden borrar objetos? Consigne un ejemplo.\n",
        "#Usamos la función __del__() como destructor en Python. Cuando el programador llama a la función __del__(), todas las referencias a objetos se eliminan, lo que se conoce como recolección de basura.\n",
        "class Fruits:\n",
        "# Calling constructor\n",
        "    def __init__(self):\n",
        "        print('Fruits created.')\n",
        "# Calling destructor\n",
        "    def __del__(self): \n",
        "        print('Destructor called, Fruits deleted.')\n",
        "obj = Fruits()\n",
        "del obj"
      ]
    },
    {
      "cell_type": "code",
      "execution_count": null,
      "metadata": {
        "id": "2JvaG03n1Vj_"
      },
      "outputs": [],
      "source": [
        "try:\n",
        "\t# Codigo a ejecutar\n",
        "\t# Pero podria haber errores en este bloque\n",
        "    \n",
        "except <tipo de error>:\n",
        "\t# Haz esto para manejar la excepcion\n",
        "\t# El bloque except se ejecutara si el bloque try lanza un error\n",
        "    \n",
        "else:\n",
        "\t# Esto se ejecutara si el bloque try se ejecuta sin errores\n",
        "   \n",
        "finally:\n",
        "\t# Este bloque se ejecutara siempre\n",
        "\n",
        "\n",
        "  def dividir(num,div):\n",
        "    return num/div\n",
        "\n",
        "\n",
        "  try:\n",
        "    res = dividir(num, div)\n",
        "    print(res)\n",
        "except ZeroDivisionError:\n",
        "    print(\"Trataste de dividir entre cero :( \")\n",
        "\n",
        "    dividir(10,2)"
      ]
    },
    {
      "cell_type": "code",
      "execution_count": null,
      "metadata": {
        "colab": {
          "base_uri": "https://localhost:8080/"
        },
        "id": "Fh8NVU8aFg3P",
        "outputId": "95f7af2d-c551-4de2-a991-d9b620a09a85"
      },
      "outputs": [
        {
          "name": "stdout",
          "output_type": "stream",
          "text": [
            "9\n",
            "25\n"
          ]
        }
      ],
      "source": [
        "##Sintaxis de una función Lambda\n",
        "#lambda argumentos: expresión\n",
        "\n",
        "#Las funciones Lambda pueden tener cualquier número de argumentos, pero solo una expresión.\n",
        "# Función Lambda para calcular el cuadrado de un número\n",
        "square = lambda x: x ** 2\n",
        "print(square(3)) # Resultado: 9\n",
        "\n",
        "# Funcion tradicional para calcular el cuadrado de un numero\n",
        "def square1(num):\n",
        "  return num ** 2\n",
        "print(square(5)) # Resultado: 25"
      ]
    },
    {
      "cell_type": "code",
      "execution_count": null,
      "metadata": {
        "colab": {
          "base_uri": "https://localhost:8080/"
        },
        "id": "li0XWGluHX1a",
        "outputId": "3d56678a-6925-4a92-f1a9-e20d48ff53c0"
      },
      "outputs": [
        {
          "name": "stdout",
          "output_type": "stream",
          "text": [
            "¿Cómo se llama?\n",
            "Daniela\n",
            "Me alegro de conocerle, Daniela\n"
          ]
        }
      ],
      "source": [
        "#¿cómo se puede almacenar una entrada que ingrese el usuario a través del teclado?\n",
        "print(\"¿Cómo se llama?\")\n",
        "nombre = input()\n",
        "print(f\"Me alegro de conocerle, {nombre}\")"
      ]
    },
    {
      "cell_type": "markdown",
      "metadata": {
        "id": "gUs6bSqbtQga"
      },
      "source": [
        "# EJERCICIO 4.\n",
        "\n",
        "Contexto:\n",
        "\n",
        "Un investigador ha reunido miles de artículos de noticias, pero quiere centrar su atención en artículos que incluyan una palabra específica.\n",
        "Por favor complete la siguiente función para ayudarle a filtrar el listado de artículos.\n",
        "La función que va a implementar debe cumplir con los siguientes criterios:\n",
        "- No incluya documentos en los que la palabra clave aparezca sólo como parte de una palabra más grande.\n",
        "  Por ejemplo, si estuviera buscando la palabra clave \"cerrado\", no incluya la cadena \"encerrado\".\n",
        "- El investigador no quiere que se haga ninguna distinción entre mayúsculas y minúsculas. \n",
        "  Por ende, la frase \"Cerró el caso\" se debe incluir cuando la palabra clave sea \"cerró\".\n",
        "- No permita que los puntos o las comas afecten las coincidencias. \n",
        "  \"Está cerrado.\" se debe incluir cuando la palabra clave sea \"cerrado\". \n",
        "  Por simplicidad, puede asumir que no existen otros tipos de puntuación. \n",
        "\n",
        "#------------------------------------------------------------------------------\n",
        "# Encabezado de la función \n",
        "#------------------------------------------------------------------------------\n",
        "\n",
        "def busqueda_de_palabra(doc_list, keyword):\n",
        "\n",
        "    \"\"\"\n",
        "    Esta función toma una lista de títulos de documentos (donde cada documento es una cadena de caracteres), así como una palabra clave.\n",
        "    Esta función retorna una lista con los valores de los índices de la lista original con los documentos que contienen la palabra clave. \t\n",
        "\n",
        "    Ejemplo:\n",
        "    doc_list = [\"El reto del Casino.\", \"Ellos compraron un auto\", \"Casi no va\"]\n",
        "    >>> busqueda_de_palabra(doc_list, 'casino')\n",
        "    >>> [0]\n",
        "    \"\"\"\n",
        "\n",
        "    #Aquí debe ir su código !!!.\n",
        "\n",
        "#------------------------------------------------------------------------------\n",
        "# Fin\n",
        "#------------------------------------------------------------------------------    "
      ]
    },
    {
      "cell_type": "code",
      "execution_count": 1,
      "metadata": {
        "colab": {
          "base_uri": "https://localhost:8080/"
        },
        "id": "MFgPBhy2oQQa",
        "outputId": "ae113582-ed0a-4067-c474-060b41cfb014"
      },
      "outputs": [
        {
          "name": "stdout",
          "output_type": "stream",
          "text": [
            "[4]\n"
          ]
        }
      ],
      "source": [
        "import re\n",
        "listax = [\"El reto del Casino.\", \"Ellos compraron un auto\", \"Casi no va\", \"Ya casi voy\", \"El hombre soy yo\", \"Que bueno\", \"Casi llego a la casa\"]\n",
        "\n",
        "def matchs(lista,palabra):\n",
        "  listaI = []\n",
        "  matches = re.compile(\".*\"+palabra)\n",
        "  newlist = list(filter(matches.match, lista))\n",
        "\n",
        "  for a in newlist:\n",
        "    listaI.append(lista.index(a))\n",
        "\n",
        "  print(listaI)\n",
        "\n",
        "matchs(listax,\"hombre\")\n"
      ]
    },
    {
      "cell_type": "markdown",
      "metadata": {
        "id": "wLjHn7oltQgb"
      },
      "source": [
        "## Metodología\n",
        "\n",
        "1. Lleve a cabo los ejercicios del Taller 1 en grupos de máximo 2 personas.\n",
        "\n",
        "2. Después de la sesión de Taller 1, suba a Intu el archivo con la solución de las preguntas con nombre en el siguiente formato:\n",
        "\n",
        "Taller_1_Apellido-Nombre_Apellido-Nombre.ipynb\n",
        "\n",
        "3. Resuelva los Ejercicios Propuestos en un nuevo notebook de Jupyter y suba el archivo a Intu hasta el próximo lunes 22 de agosto a las 7:00 am (antes del inicio de la clase). Utilice el siguiente formato para el nombre del archivo.\n",
        "\n",
        "Ejercicios_Taller_1_Apellido-Nombre_Apellido-Nombre.ipynb\n",
        "\n",
        "4.\tRecuerde consignar los nombres de los integrantes dentro del notebook.\n",
        "\n",
        "5.\tAlgunos grupos serán llamados al azar durante la clase del lunes 22 de agosto para realizar la presentación de alguno (s) de los puntos.\n",
        "\n",
        "6. La nota del Taller 1 se asignará así:\n",
        "\n",
        "- Taller 1 (20%)\n",
        "\n",
        "- Ejercicios_Taller 1 (80%)\n"
      ]
    },
    {
      "cell_type": "code",
      "execution_count": 20,
      "metadata": {},
      "outputs": [
        {
          "ename": "SyntaxError",
          "evalue": "invalid syntax (1066182047.py, line 10)",
          "output_type": "error",
          "traceback": [
            "\u001b[0;36m  Input \u001b[0;32mIn [20]\u001b[0;36m\u001b[0m\n\u001b[0;31m    arr = np.array(my_list)\u001b[0m\n\u001b[0m    ^\u001b[0m\n\u001b[0;31mSyntaxError\u001b[0m\u001b[0;31m:\u001b[0m invalid syntax\n"
          ]
        }
      ],
      "source": [
        "\n"
      ]
    },
    {
      "cell_type": "code",
      "execution_count": 45,
      "metadata": {
        "id": "lyTfHJOItQgb"
      },
      "outputs": [
        {
          "data": {
            "text/plain": [
              "(3, 3)"
            ]
          },
          "execution_count": 45,
          "metadata": {},
          "output_type": "execute_result"
        }
      ],
      "source": [
        "import numpy as np  \n",
        "\n",
        "arr = np.zeros(5)\n",
        "arr \n",
        "\n",
        "arr = np.zeros((3,3))\n",
        "arr \n",
        "\n",
        "arr.shape\n"
      ]
    }
  ],
  "metadata": {
    "colab": {
      "collapsed_sections": [],
      "name": "Taller_1_IA_Introducción_a_Python_2022-2.ipynb",
      "provenance": []
    },
    "interpreter": {
      "hash": "a5a989a0b9c62b04ee600a8d3cc7466483c74b57a24e7b0f4faa72d83fc2c880"
    },
    "kernelspec": {
      "display_name": "Python 3.9.12 ('base')",
      "language": "python",
      "name": "python3"
    },
    "language_info": {
      "codemirror_mode": {
        "name": "ipython",
        "version": 3
      },
      "file_extension": ".py",
      "mimetype": "text/x-python",
      "name": "python",
      "nbconvert_exporter": "python",
      "pygments_lexer": "ipython3",
      "version": "3.9.12"
    }
  },
  "nbformat": 4,
  "nbformat_minor": 0
}
